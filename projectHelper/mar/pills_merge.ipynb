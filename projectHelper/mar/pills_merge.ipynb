{
 "cells": [
  {
   "cell_type": "code",
   "execution_count": 1,
   "metadata": {},
   "outputs": [],
   "source": [
    "import pandas as pd  \n",
    "import numpy as np  \n",
    "import sys\n",
    "import matplotlib.pyplot as plt\n"
   ]
  },
  {
   "cell_type": "code",
   "execution_count": 23,
   "metadata": {},
   "outputs": [
    {
     "name": "stdout",
     "output_type": "stream",
     "text": [
      "교집합 수 :  21377\n"
     ]
    }
   ],
   "source": [
    "info1 = pd.read_excel('D:/DV65/TeamPle/info.xlsx') # 입력 파일 / 개수적음 2 \n",
    "info2 = pd.read_excel('D:/DV65/TeamPle/info2.xlsx') # 입력 파일 / 개수 많음 1\n",
    "\n",
    "info2['ver'] = 'info2'\n",
    "info1['ver'] = 'info1'\n",
    "\n",
    "id_union = set(info2['품목명']) & set(info1['품목명'])\n",
    "# print(id_union)\n",
    "print('교집합 수 : ' , len(id_union))"
   ]
  },
  {
   "cell_type": "code",
   "execution_count": 35,
   "metadata": {},
   "outputs": [],
   "source": [
    "info1=pd.read_excel('D:/DV65/TeamPle/info.xlsx')\n",
    "info2=pd.read_excel('D:/DV65/TeamPle/info2.xlsx')\n",
    "\n",
    "merge = pd.merge(info1,info2,on='품목명',how='outer')\n",
    "\n",
    "merge.to_excel('hi.xlsx')"
   ]
  },
  {
   "cell_type": "code",
   "execution_count": 34,
   "metadata": {},
   "outputs": [
    {
     "name": "stdout",
     "output_type": "stream",
     "text": [
      "<class 'pandas.core.frame.DataFrame'>\n",
      "<class 'pandas.core.frame.DataFrame'>\n"
     ]
    }
   ],
   "source": [
    "print(type(info1))\n",
    "print(type(merge))"
   ]
  },
  {
   "cell_type": "code",
   "execution_count": 14,
   "metadata": {},
   "outputs": [
    {
     "name": "stdout",
     "output_type": "stream",
     "text": [
      "삭제된 수 :  1817\n",
      "추가된 수 :  30581\n"
     ]
    }
   ],
   "source": [
    "df_old = pd.read_excel('D:/DV65/TeamPle/info2.xlsx') # 입력 파일 / 개수 많음 1\n",
    "df_new = pd.read_excel('D:/DV65/TeamPle/info.xlsx') # 입력 파일 / 개수적음 2 \n",
    "df_old['ver'] = 'old'\n",
    "df_new['ver'] = 'new'\n",
    "\n",
    "id_dropped = set(df_old['품목명']) - set(df_new['품목명'])\n",
    "id_added = set(df_new['품목명']) - set(df_old['품목명'])\n",
    "\n",
    "# print('삭제된 품목일련번호: ',id_dropped)\n",
    "# print('추가된 품목일련번호: ',id_added)\n",
    "print('삭제된 수 : ' , len(id_dropped))\n",
    "print( '추가된 수 : ' , len(id_added))\n",
    "\n",
    "df_dropped = df_old[df_old['품목명'].isin(id_dropped)].iloc[:,:-1]\n",
    "df_added = df_new[df_new['품목명'].isin(id_added)].iloc[:,:-1]\n",
    "\n",
    "#내용 변경된 데이터 찾기 \n",
    "\n",
    "# 두 데이터프레임을 하나로 합칩니다.\n",
    "df_concatted = pd.concat([df_old, df_new], ignore_index=True)\n",
    "# 모든 컬럼의 내용이 중복되는 데이터는 삭제합니다.\n",
    "changes = df_concatted.drop_duplicates(df_concatted.columns[:-1], keep='last')\n",
    "\n",
    "# 남은 데이터 중 동일한 아이디 값이 두개 이상 존재한다면\n",
    "# 정보가 변경된 데이터입니다.\n",
    "duplicated_list = changes[changes['품목명'].duplicated()]['품목명'].to_list()\n",
    "df_changed = changes[changes['품목명'].isin(duplicated_list)]    "
   ]
  },
  {
   "cell_type": "code",
   "execution_count": 17,
   "metadata": {},
   "outputs": [
    {
     "name": "stdout",
     "output_type": "stream",
     "text": [
      "교집합 수 :  21377\n"
     ]
    }
   ],
   "source": []
  },
  {
   "cell_type": "code",
   "execution_count": 10,
   "metadata": {},
   "outputs": [],
   "source": [
    "# type(df_changed)\n",
    "# df_changed.to_excel('test_의약품1.xlsx')\n",
    "    "
   ]
  },
  {
   "cell_type": "code",
   "execution_count": 11,
   "metadata": {},
   "outputs": [],
   "source": [
    "#다시 분리\n",
    "df_changed_old = df_changed[df_changed['ver'] == 'old'].iloc[:,:-1]\n",
    "df_changed_old.sort_values(by='품목명', inplace=True)\n",
    "\n",
    "df_changed_new = df_changed[df_changed['ver'] == 'new'].iloc[:,:-1]\n",
    "df_changed_new.sort_values(by='품목명', inplace=True)"
   ]
  },
  {
   "cell_type": "code",
   "execution_count": 12,
   "metadata": {},
   "outputs": [],
   "source": [
    "# df_changed_new\n",
    "# df_changed_new.to_excel('df_changed_new_test.xlsx')\n",
    "# df_changed_old\n",
    "# df_changed_old.to_excel('df_changed_old_test.xlsx')"
   ]
  },
  {
   "cell_type": "code",
   "execution_count": 13,
   "metadata": {},
   "outputs": [
    {
     "ename": "IndexError",
     "evalue": "single positional indexer is out-of-bounds",
     "output_type": "error",
     "traceback": [
      "\u001b[1;31m---------------------------------------------------------------------------\u001b[0m",
      "\u001b[1;31mIndexError\u001b[0m                                Traceback (most recent call last)",
      "\u001b[1;32m<ipython-input-13-bee611336c85>\u001b[0m in \u001b[0;36m<module>\u001b[1;34m\u001b[0m\n\u001b[0;32m      5\u001b[0m \u001b[1;32mfor\u001b[0m \u001b[0mi\u001b[0m \u001b[1;32min\u001b[0m \u001b[0mrange\u001b[0m\u001b[1;33m(\u001b[0m\u001b[0mlen\u001b[0m\u001b[1;33m(\u001b[0m\u001b[0mdf_changed_new\u001b[0m\u001b[1;33m.\u001b[0m\u001b[0mindex\u001b[0m\u001b[1;33m)\u001b[0m\u001b[1;33m)\u001b[0m\u001b[1;33m:\u001b[0m\u001b[1;33m\u001b[0m\u001b[0m\n\u001b[0;32m      6\u001b[0m     \u001b[1;32mfor\u001b[0m \u001b[0mj\u001b[0m \u001b[1;32min\u001b[0m \u001b[0mrange\u001b[0m\u001b[1;33m(\u001b[0m\u001b[0mlen\u001b[0m\u001b[1;33m(\u001b[0m\u001b[0mdf_changed_new\u001b[0m\u001b[1;33m.\u001b[0m\u001b[0mcolumns\u001b[0m\u001b[1;33m)\u001b[0m\u001b[1;33m)\u001b[0m\u001b[1;33m:\u001b[0m\u001b[1;33m\u001b[0m\u001b[0m\n\u001b[1;32m----> 7\u001b[1;33m         \u001b[1;32mif\u001b[0m \u001b[1;33m(\u001b[0m\u001b[0mdf_changed_new\u001b[0m\u001b[1;33m.\u001b[0m\u001b[0miloc\u001b[0m\u001b[1;33m[\u001b[0m\u001b[0mi\u001b[0m\u001b[1;33m,\u001b[0m \u001b[0mj\u001b[0m\u001b[1;33m]\u001b[0m \u001b[1;33m!=\u001b[0m \u001b[0mdf_changed_old\u001b[0m\u001b[1;33m.\u001b[0m\u001b[0miloc\u001b[0m\u001b[1;33m[\u001b[0m\u001b[0mi\u001b[0m\u001b[1;33m,\u001b[0m \u001b[0mj\u001b[0m\u001b[1;33m]\u001b[0m\u001b[1;33m)\u001b[0m\u001b[1;33m:\u001b[0m\u001b[1;33m\u001b[0m\u001b[0m\n\u001b[0m\u001b[0;32m      8\u001b[0m             \u001b[0mdf_info_changed\u001b[0m\u001b[1;33m.\u001b[0m\u001b[0miloc\u001b[0m\u001b[1;33m[\u001b[0m\u001b[0mi\u001b[0m\u001b[1;33m,\u001b[0m\u001b[0mj\u001b[0m\u001b[1;33m]\u001b[0m \u001b[1;33m=\u001b[0m \u001b[0mstr\u001b[0m\u001b[1;33m(\u001b[0m\u001b[0mdf_changed_old\u001b[0m\u001b[1;33m.\u001b[0m\u001b[0miloc\u001b[0m\u001b[1;33m[\u001b[0m\u001b[0mi\u001b[0m\u001b[1;33m,\u001b[0m \u001b[0mj\u001b[0m\u001b[1;33m]\u001b[0m\u001b[1;33m)\u001b[0m \u001b[1;33m+\u001b[0m \u001b[1;34m\" ==> \"\u001b[0m \u001b[1;33m+\u001b[0m \u001b[0mstr\u001b[0m\u001b[1;33m(\u001b[0m\u001b[0mdf_changed_new\u001b[0m\u001b[1;33m.\u001b[0m\u001b[0miloc\u001b[0m\u001b[1;33m[\u001b[0m\u001b[0mi\u001b[0m\u001b[1;33m,\u001b[0m\u001b[0mj\u001b[0m\u001b[1;33m]\u001b[0m\u001b[1;33m)\u001b[0m\u001b[1;33m\u001b[0m\u001b[0m\n",
      "\u001b[1;32mD:\\DV65\\Anaconda3\\lib\\site-packages\\pandas\\core\\indexing.py\u001b[0m in \u001b[0;36m__getitem__\u001b[1;34m(self, key)\u001b[0m\n\u001b[0;32m    871\u001b[0m                     \u001b[1;31m# AttributeError for IntervalTree get_value\u001b[0m\u001b[1;33m\u001b[0m\u001b[1;33m\u001b[0m\u001b[0m\n\u001b[0;32m    872\u001b[0m                     \u001b[1;32mpass\u001b[0m\u001b[1;33m\u001b[0m\u001b[0m\n\u001b[1;32m--> 873\u001b[1;33m             \u001b[1;32mreturn\u001b[0m \u001b[0mself\u001b[0m\u001b[1;33m.\u001b[0m\u001b[0m_getitem_tuple\u001b[0m\u001b[1;33m(\u001b[0m\u001b[0mkey\u001b[0m\u001b[1;33m)\u001b[0m\u001b[1;33m\u001b[0m\u001b[0m\n\u001b[0m\u001b[0;32m    874\u001b[0m         \u001b[1;32melse\u001b[0m\u001b[1;33m:\u001b[0m\u001b[1;33m\u001b[0m\u001b[0m\n\u001b[0;32m    875\u001b[0m             \u001b[1;31m# we by definition only have the 0th axis\u001b[0m\u001b[1;33m\u001b[0m\u001b[1;33m\u001b[0m\u001b[0m\n",
      "\u001b[1;32mD:\\DV65\\Anaconda3\\lib\\site-packages\\pandas\\core\\indexing.py\u001b[0m in \u001b[0;36m_getitem_tuple\u001b[1;34m(self, tup)\u001b[0m\n\u001b[0;32m   1441\u001b[0m     \u001b[1;32mdef\u001b[0m \u001b[0m_getitem_tuple\u001b[0m\u001b[1;33m(\u001b[0m\u001b[0mself\u001b[0m\u001b[1;33m,\u001b[0m \u001b[0mtup\u001b[0m\u001b[1;33m:\u001b[0m \u001b[0mTuple\u001b[0m\u001b[1;33m)\u001b[0m\u001b[1;33m:\u001b[0m\u001b[1;33m\u001b[0m\u001b[0m\n\u001b[0;32m   1442\u001b[0m \u001b[1;33m\u001b[0m\u001b[0m\n\u001b[1;32m-> 1443\u001b[1;33m         \u001b[0mself\u001b[0m\u001b[1;33m.\u001b[0m\u001b[0m_has_valid_tuple\u001b[0m\u001b[1;33m(\u001b[0m\u001b[0mtup\u001b[0m\u001b[1;33m)\u001b[0m\u001b[1;33m\u001b[0m\u001b[0m\n\u001b[0m\u001b[0;32m   1444\u001b[0m         \u001b[1;32mtry\u001b[0m\u001b[1;33m:\u001b[0m\u001b[1;33m\u001b[0m\u001b[0m\n\u001b[0;32m   1445\u001b[0m             \u001b[1;32mreturn\u001b[0m \u001b[0mself\u001b[0m\u001b[1;33m.\u001b[0m\u001b[0m_getitem_lowerdim\u001b[0m\u001b[1;33m(\u001b[0m\u001b[0mtup\u001b[0m\u001b[1;33m)\u001b[0m\u001b[1;33m\u001b[0m\u001b[0m\n",
      "\u001b[1;32mD:\\DV65\\Anaconda3\\lib\\site-packages\\pandas\\core\\indexing.py\u001b[0m in \u001b[0;36m_has_valid_tuple\u001b[1;34m(self, key)\u001b[0m\n\u001b[0;32m    700\u001b[0m                 \u001b[1;32mraise\u001b[0m \u001b[0mIndexingError\u001b[0m\u001b[1;33m(\u001b[0m\u001b[1;34m\"Too many indexers\"\u001b[0m\u001b[1;33m)\u001b[0m\u001b[1;33m\u001b[0m\u001b[0m\n\u001b[0;32m    701\u001b[0m             \u001b[1;32mtry\u001b[0m\u001b[1;33m:\u001b[0m\u001b[1;33m\u001b[0m\u001b[0m\n\u001b[1;32m--> 702\u001b[1;33m                 \u001b[0mself\u001b[0m\u001b[1;33m.\u001b[0m\u001b[0m_validate_key\u001b[0m\u001b[1;33m(\u001b[0m\u001b[0mk\u001b[0m\u001b[1;33m,\u001b[0m \u001b[0mi\u001b[0m\u001b[1;33m)\u001b[0m\u001b[1;33m\u001b[0m\u001b[0m\n\u001b[0m\u001b[0;32m    703\u001b[0m             \u001b[1;32mexcept\u001b[0m \u001b[0mValueError\u001b[0m \u001b[1;32mas\u001b[0m \u001b[0merr\u001b[0m\u001b[1;33m:\u001b[0m\u001b[1;33m\u001b[0m\u001b[0m\n\u001b[0;32m    704\u001b[0m                 raise ValueError(\n",
      "\u001b[1;32mD:\\DV65\\Anaconda3\\lib\\site-packages\\pandas\\core\\indexing.py\u001b[0m in \u001b[0;36m_validate_key\u001b[1;34m(self, key, axis)\u001b[0m\n\u001b[0;32m   1350\u001b[0m             \u001b[1;32mreturn\u001b[0m\u001b[1;33m\u001b[0m\u001b[0m\n\u001b[0;32m   1351\u001b[0m         \u001b[1;32melif\u001b[0m \u001b[0mis_integer\u001b[0m\u001b[1;33m(\u001b[0m\u001b[0mkey\u001b[0m\u001b[1;33m)\u001b[0m\u001b[1;33m:\u001b[0m\u001b[1;33m\u001b[0m\u001b[0m\n\u001b[1;32m-> 1352\u001b[1;33m             \u001b[0mself\u001b[0m\u001b[1;33m.\u001b[0m\u001b[0m_validate_integer\u001b[0m\u001b[1;33m(\u001b[0m\u001b[0mkey\u001b[0m\u001b[1;33m,\u001b[0m \u001b[0maxis\u001b[0m\u001b[1;33m)\u001b[0m\u001b[1;33m\u001b[0m\u001b[0m\n\u001b[0m\u001b[0;32m   1353\u001b[0m         \u001b[1;32melif\u001b[0m \u001b[0misinstance\u001b[0m\u001b[1;33m(\u001b[0m\u001b[0mkey\u001b[0m\u001b[1;33m,\u001b[0m \u001b[0mtuple\u001b[0m\u001b[1;33m)\u001b[0m\u001b[1;33m:\u001b[0m\u001b[1;33m\u001b[0m\u001b[0m\n\u001b[0;32m   1354\u001b[0m             \u001b[1;31m# a tuple should already have been caught by this point\u001b[0m\u001b[1;33m\u001b[0m\u001b[1;33m\u001b[0m\u001b[0m\n",
      "\u001b[1;32mD:\\DV65\\Anaconda3\\lib\\site-packages\\pandas\\core\\indexing.py\u001b[0m in \u001b[0;36m_validate_integer\u001b[1;34m(self, key, axis)\u001b[0m\n\u001b[0;32m   1435\u001b[0m         \u001b[0mlen_axis\u001b[0m \u001b[1;33m=\u001b[0m \u001b[0mlen\u001b[0m\u001b[1;33m(\u001b[0m\u001b[0mself\u001b[0m\u001b[1;33m.\u001b[0m\u001b[0mobj\u001b[0m\u001b[1;33m.\u001b[0m\u001b[0m_get_axis\u001b[0m\u001b[1;33m(\u001b[0m\u001b[0maxis\u001b[0m\u001b[1;33m)\u001b[0m\u001b[1;33m)\u001b[0m\u001b[1;33m\u001b[0m\u001b[0m\n\u001b[0;32m   1436\u001b[0m         \u001b[1;32mif\u001b[0m \u001b[0mkey\u001b[0m \u001b[1;33m>=\u001b[0m \u001b[0mlen_axis\u001b[0m \u001b[1;32mor\u001b[0m \u001b[0mkey\u001b[0m \u001b[1;33m<\u001b[0m \u001b[1;33m-\u001b[0m\u001b[0mlen_axis\u001b[0m\u001b[1;33m:\u001b[0m\u001b[1;33m\u001b[0m\u001b[0m\n\u001b[1;32m-> 1437\u001b[1;33m             \u001b[1;32mraise\u001b[0m \u001b[0mIndexError\u001b[0m\u001b[1;33m(\u001b[0m\u001b[1;34m\"single positional indexer is out-of-bounds\"\u001b[0m\u001b[1;33m)\u001b[0m\u001b[1;33m\u001b[0m\u001b[0m\n\u001b[0m\u001b[0;32m   1438\u001b[0m \u001b[1;33m\u001b[0m\u001b[0m\n\u001b[0;32m   1439\u001b[0m     \u001b[1;31m# -------------------------------------------------------------------\u001b[0m\u001b[1;33m\u001b[0m\u001b[1;33m\u001b[0m\u001b[0m\n",
      "\u001b[1;31mIndexError\u001b[0m: single positional indexer is out-of-bounds"
     ]
    }
   ],
   "source": [
    "df_info_changed = df_changed_old.copy()\n",
    "# df_info_changed = pd.read_excel('df_changed_old_test.xlsx')\n",
    "# df_changed_new = pd.read_excel('df_changed_new_test.xlsx')\n",
    "# df_info_changed\n",
    "for i in range(len(df_changed_new.index)):\n",
    "    for j in range(len(df_changed_new.columns)):\n",
    "        if (df_changed_new.iloc[i, j] != df_changed_old.iloc[i, j]):\n",
    "            df_info_changed.iloc[i,j] = str(df_changed_old.iloc[i, j]) + \" ==> \" + str(df_changed_new.iloc[i,j])\n"
   ]
  },
  {
   "cell_type": "code",
   "execution_count": null,
   "metadata": {},
   "outputs": [],
   "source": [
    "with pd.ExcelWriter('비교결과2.xlsx') as writer:\n",
    "    df_info_changed.to_excel(writer, sheet_name='info changed', index=False)\n",
    "    df_added.to_excel(writer, sheet_name='added', index=False)\n",
    "    df_dropped.to_excel(writer, sheet_name='dropped', index=False)  "
   ]
  },
  {
   "cell_type": "code",
   "execution_count": 22,
   "metadata": {},
   "outputs": [
    {
     "ename": "SyntaxError",
     "evalue": "invalid syntax (<ipython-input-22-28912340800b>, line 4)",
     "output_type": "error",
     "traceback": [
      "\u001b[1;36m  File \u001b[1;32m\"<ipython-input-22-28912340800b>\"\u001b[1;36m, line \u001b[1;32m4\u001b[0m\n\u001b[1;33m    def compare_excel('old_xlsx' 'new_xlsx', '품목일련번호')\u001b[0m\n\u001b[1;37m                               ^\u001b[0m\n\u001b[1;31mSyntaxError\u001b[0m\u001b[1;31m:\u001b[0m invalid syntax\n"
     ]
    }
   ],
   "source": [
    "# 소스만 정리\n",
    "import pandas as pd  \n",
    "import numpy as np  \n",
    "import sys\n",
    "import matplotlib.pyplot as plt\n",
    "\n",
    "def compare_excel(old_xlsx, new_xlsx, column_name): \n",
    "\n",
    "    df_old = pd.read_excel('D:/DV65/TeamPle/info2.xlsx')  # 입력 파일 / 개수 적음 2만개\n",
    "    df_new = pd.read_excel('D:/DV65/TeamPle/info.xlsx')  # 입력 파일 / 개수 많음 3만개\n",
    "\n",
    "    # 불러온 데이터의 버전 구분\n",
    "    df_old['ver'] = 'old'\n",
    "    df_new['ver'] = 'new'\n",
    "\n",
    "    id_dropped = set(df_old['품목일련번호']) - set(df_new['품목일련번호'])\n",
    "    id_added = set(df_new['품목일련번호']) - set(df_old['품목일련번호'])\n",
    "\n",
    "    # 삭제된 데이터\n",
    "    df_dropped = df_old[df_old['column_name'].isin(id_dropped)].iloc[:,:-1]\n",
    "    # 추가된 데이터\n",
    "    df_added = df_new[df_new['품목일련번호'].isin(id_added)].iloc[:,:-1]\n",
    "\n",
    "    df_concatted = pd.concat([df_old, df_new], ignore_index=True)\n",
    "    changes = df_concatted.drop_duplicates(df_concatted.columns[:-1], keep='last')\n",
    "    duplicated_list = changes[changes['품목일련번호'].duplicated()]['품목일련번호'].to_list()\n",
    "    df_changed = changes[changes['품목일련번호'].isin(duplicated_list)]\n",
    "\n",
    "    df_changed_old = df_changed[df_changed['ver'] == 'old'].iloc[:,:-1]\n",
    "    df_changed_old.sort_values(by='품목일련번호', inplace=True)\n",
    "\n",
    "    df_changed_new = df_changed[df_changed['ver'] == 'new'].iloc[:,:-1]\n",
    "    df_changed_new.sort_values(by='품목일련번호', inplace=True)\n",
    "\n",
    "    # 정보가 변경된 데이터 정리\n",
    "    df_info_changed = df_changed_old.copy()\n",
    "    for i in range(len(df_changed_new.index)):\n",
    "        for j in range(len(df_changed_new.columns)):\n",
    "            if (df_changed_new.iloc[i, j] != df_changed_old.iloc[i, j]):\n",
    "                df_info_changed.iloc[i,j] = str(df_changed_old.iloc[i, j]) + \" ==> \" + str(df_changed_new.iloc[i,j])\n",
    "\n",
    "    # 엑셀 저장            \n",
    "    with pd.ExcelWriter('compared_result.xlsx') as writer:\n",
    "        df_info_changed.to_excel(writer, sheet_name='info changed', index=False)\n",
    "        df_added.to_excel(writer, sheet_name='added', index=False)\n",
    "        df_dropped.to_excel(writer, sheet_name='dropped', index=False)    "
   ]
  }
 ],
 "metadata": {
  "kernelspec": {
   "display_name": "Python 3",
   "language": "python",
   "name": "python3"
  },
  "language_info": {
   "codemirror_mode": {
    "name": "ipython",
    "version": 3
   },
   "file_extension": ".py",
   "mimetype": "text/x-python",
   "name": "python",
   "nbconvert_exporter": "python",
   "pygments_lexer": "ipython3",
   "version": "3.6.10"
  }
 },
 "nbformat": 4,
 "nbformat_minor": 4
}
