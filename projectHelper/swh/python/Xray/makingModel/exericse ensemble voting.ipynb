{
 "cells": [
  {
   "cell_type": "code",
   "execution_count": 6,
   "metadata": {},
   "outputs": [],
   "source": [
    "from sklearn.tree import DecisionTreeClassifier\n",
    "from sklearn.ensemble import RandomForestClassifier, AdaBoostClassifier, ExtraTreesClassifier, BaggingClassifier, GradientBoostingClassifier\n",
    "from sklearn.svm import SVC\n",
    "from xgboost import XGBClassifier\n",
    "from lightgbm import LGBMClassifier\n",
    "from sklearn.neighbors import KNeighborsClassifier\n",
    "from sklearn.linear_model import LogisticRegressionCV, RidgeClassifier\n",
    "# VotingClassifier\n",
    "from sklearn.ensemble import VotingClassifier\n",
    "import tensorflow as tf\n",
    "from keras.preprocessing.image import ImageDataGenerator"
   ]
  },
  {
   "cell_type": "code",
   "execution_count": 9,
   "metadata": {},
   "outputs": [],
   "source": [
    "model_mobileNetV2 = tf.keras.models.load_model(r'D:\\pythonWorkspace\\COVID_DATA\\COVID-test\\model/mobileNetV2model3.h5')\n",
    "model_NasNetMobile = tf.keras.models.load_model(r'D:\\pythonWorkspace\\COVID_DATA\\COVID-test\\model/mobileNetV2model3.h5')\n",
    "\n",
    "# ensemble 할 model 정의\n",
    "models = [\n",
    "    ('mbn', model_mobileNetV2),\n",
    "    ('nnm', model_mobileNetV2)\n",
    "]\n"
   ]
  },
  {
   "cell_type": "code",
   "execution_count": null,
   "metadata": {},
   "outputs": [],
   "source": [
    "train_data_dir = 'D:/pythonWorkspace/COVID_DATA/collection-re/stacking'\n",
    "validation_data_dir = 'D:/pythonWorkspace/COVID_DATA/collection-re/convertJPG'\n",
    "\n",
    "img_rows,img_cols = 224,224\n",
    "batch_size = 32\n",
    "\n",
    "train_datagen = ImageDataGenerator(\n",
    "                    rescale=1./255,\n",
    "                                   )\n",
    "\n",
    "train_generator = train_datagen.flow_from_directory(\n",
    "                        train_data_dir,\n",
    "                        target_size = (img_rows,img_cols),\n",
    "                        batch_size = batch_size,\n",
    "                        class_mode = 'categorical'\n",
    "                        )\n"
   ]
  },
  {
   "cell_type": "code",
   "execution_count": null,
   "metadata": {},
   "outputs": [],
   "source": [
    "# soft vote\n",
    "soft_vote  = VotingClassifier(models, voting='soft')\n",
    "soft_vote_cv = cross_validate(soft_vote, train_generator, cv=k_fold)\n",
    "soft_vote.fit(train_generator)"
   ]
  }
 ],
 "metadata": {
  "kernelspec": {
   "display_name": "tensorflow3.6.5",
   "language": "python",
   "name": "tensorflow3.6.5"
  },
  "language_info": {
   "codemirror_mode": {
    "name": "ipython",
    "version": 3
   },
   "file_extension": ".py",
   "mimetype": "text/x-python",
   "name": "python",
   "nbconvert_exporter": "python",
   "pygments_lexer": "ipython3",
   "version": "3.6.12"
  }
 },
 "nbformat": 4,
 "nbformat_minor": 4
}
